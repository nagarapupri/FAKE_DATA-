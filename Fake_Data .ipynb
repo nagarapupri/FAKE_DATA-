{
 "cells": [
  {
   "cell_type": "code",
   "execution_count": 2,
   "metadata": {},
   "outputs": [
    {
     "name": "stdout",
     "output_type": "stream",
     "text": [
      " Enter No of Entities:120\n",
      "file is generated!\n"
     ]
    }
   ],
   "source": [
    "import csv\n",
    "from faker import Faker\n",
    "import random\n",
    "\n",
    "\n",
    "def Fake_datageneration(No_of_Entities, Headers):\n",
    "    fake = Faker()\n",
    "    with open(\"fake_data.csv\", 'wt', newline='') as csvFile:\n",
    "        writer = csv.DictWriter(csvFile, fieldnames=Headers)\n",
    "        writer.writeheader()\n",
    "        for i in range(No_of_Entities):\n",
    "            first=str(random.randint(100,999))\n",
    "            second=str(random.randint(1,981)).zfill(3)\n",
    "            last=str(random.randint(1,9999)).zfill(4)\n",
    "            phone_number=\"{}-{}-{}\".format(first,second,last)\n",
    "\n",
    "            writer.writerow({\n",
    "                \"Email Id\": fake.email(),\n",
    "                \"Phone Number\": phone_number,\n",
    "                \"Home Address\": fake.address(),\n",
    "                \"Person Name\": fake.name(),\n",
    "                \"Birth Year\": random.randint(1900,2000),\n",
    "                'No of kids':random.randint(0,8),\n",
    "                'Rent OR Own':random.choice([\"rent\",\"own\"]),\n",
    "                'Annual Income($)':random.randint(67000,160000),\n",
    "                'No of Speeding tickets':random.randint(0,5)\n",
    "            })\n",
    "\n",
    "\n",
    "if __name__ == '__main__':\n",
    "    No_of_Entities = int(input(\" Enter No of Entities:\"))\n",
    "    Headers = [\"Email Id\", \"Phone Number\", \"Home Address\", \"Person Name\", \"Birth Year\", \"No of kids\",\n",
    "               \"Rent OR Own\", \"Annual Income($)\", \"No of Speeding tickets\"]\n",
    "    Fake_datageneration(No_of_Entities, Headers)\n",
    "    print(\"file is generated!\")"
   ]
  },
  {
   "cell_type": "code",
   "execution_count": null,
   "metadata": {},
   "outputs": [],
   "source": []
  }
 ],
 "metadata": {
  "kernelspec": {
   "display_name": "Python 3",
   "language": "python",
   "name": "python3"
  },
  "language_info": {
   "codemirror_mode": {
    "name": "ipython",
    "version": 3
   },
   "file_extension": ".py",
   "mimetype": "text/x-python",
   "name": "python",
   "nbconvert_exporter": "python",
   "pygments_lexer": "ipython3",
   "version": "3.7.4"
  }
 },
 "nbformat": 4,
 "nbformat_minor": 2
}
